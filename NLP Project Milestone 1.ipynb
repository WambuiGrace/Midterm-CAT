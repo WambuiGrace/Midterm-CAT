{
 "cells": [
  {
   "cell_type": "code",
   "execution_count": 63,
   "id": "057b0348",
   "metadata": {},
   "outputs": [
    {
     "name": "stdout",
     "output_type": "stream",
     "text": [
      "Requirement already satisfied: matplotlib-venn in c:\\users\\grace m\\anaconda3\\lib\\site-packages (0.11.9)\n",
      "Requirement already satisfied: numpy in c:\\users\\grace m\\anaconda3\\lib\\site-packages (from matplotlib-venn) (1.23.5)\n",
      "Requirement already satisfied: matplotlib in c:\\users\\grace m\\anaconda3\\lib\\site-packages (from matplotlib-venn) (3.7.0)\n",
      "Requirement already satisfied: scipy in c:\\users\\grace m\\anaconda3\\lib\\site-packages (from matplotlib-venn) (1.10.0)\n",
      "Requirement already satisfied: kiwisolver>=1.0.1 in c:\\users\\grace m\\anaconda3\\lib\\site-packages (from matplotlib->matplotlib-venn) (1.4.4)\n",
      "Requirement already satisfied: cycler>=0.10 in c:\\users\\grace m\\anaconda3\\lib\\site-packages (from matplotlib->matplotlib-venn) (0.11.0)\n",
      "Requirement already satisfied: pyparsing>=2.3.1 in c:\\users\\grace m\\anaconda3\\lib\\site-packages (from matplotlib->matplotlib-venn) (3.0.9)\n",
      "Requirement already satisfied: pillow>=6.2.0 in c:\\users\\grace m\\anaconda3\\lib\\site-packages (from matplotlib->matplotlib-venn) (9.4.0)\n",
      "Requirement already satisfied: importlib-resources>=3.2.0 in c:\\users\\grace m\\anaconda3\\lib\\site-packages (from matplotlib->matplotlib-venn) (5.2.0)\n",
      "Requirement already satisfied: fonttools>=4.22.0 in c:\\users\\grace m\\anaconda3\\lib\\site-packages (from matplotlib->matplotlib-venn) (4.25.0)\n",
      "Requirement already satisfied: packaging>=20.0 in c:\\users\\grace m\\anaconda3\\lib\\site-packages (from matplotlib->matplotlib-venn) (22.0)\n",
      "Requirement already satisfied: python-dateutil>=2.7 in c:\\users\\grace m\\anaconda3\\lib\\site-packages (from matplotlib->matplotlib-venn) (2.8.2)\n",
      "Requirement already satisfied: contourpy>=1.0.1 in c:\\users\\grace m\\anaconda3\\lib\\site-packages (from matplotlib->matplotlib-venn) (1.0.5)\n",
      "Requirement already satisfied: zipp>=3.1.0 in c:\\users\\grace m\\anaconda3\\lib\\site-packages (from importlib-resources>=3.2.0->matplotlib->matplotlib-venn) (3.11.0)\n",
      "Requirement already satisfied: six>=1.5 in c:\\users\\grace m\\anaconda3\\lib\\site-packages (from python-dateutil>=2.7->matplotlib->matplotlib-venn) (1.16.0)\n"
     ]
    }
   ],
   "source": [
    "!pip install matplotlib-venn"
   ]
  },
  {
   "cell_type": "code",
   "execution_count": 65,
   "id": "8b59a484",
   "metadata": {},
   "outputs": [
    {
     "name": "stdout",
     "output_type": "stream",
     "text": [
      "Requirement already satisfied: snscrape in c:\\users\\grace m\\anaconda3\\lib\\site-packages (0.6.1.20230315.dev2+gedac5f3)\n",
      "Requirement already satisfied: requests[socks] in c:\\users\\grace m\\anaconda3\\lib\\site-packages (from snscrape) (2.28.1)\n",
      "Requirement already satisfied: beautifulsoup4 in c:\\users\\grace m\\anaconda3\\lib\\site-packages (from snscrape) (4.11.1)\n",
      "Requirement already satisfied: filelock in c:\\users\\grace m\\anaconda3\\lib\\site-packages (from snscrape) (3.9.0)\n",
      "Requirement already satisfied: lxml in c:\\users\\grace m\\anaconda3\\lib\\site-packages (from snscrape) (4.9.1)\n",
      "Requirement already satisfied: soupsieve>1.2 in c:\\users\\grace m\\anaconda3\\lib\\site-packages (from beautifulsoup4->snscrape) (2.3.2.post1)\n",
      "Requirement already satisfied: idna<4,>=2.5 in c:\\users\\grace m\\anaconda3\\lib\\site-packages (from requests[socks]->snscrape) (3.4)\n",
      "Requirement already satisfied: charset-normalizer<3,>=2 in c:\\users\\grace m\\anaconda3\\lib\\site-packages (from requests[socks]->snscrape) (2.0.4)\n",
      "Requirement already satisfied: certifi>=2017.4.17 in c:\\users\\grace m\\anaconda3\\lib\\site-packages (from requests[socks]->snscrape) (2022.12.7)\n",
      "Requirement already satisfied: urllib3<1.27,>=1.21.1 in c:\\users\\grace m\\anaconda3\\lib\\site-packages (from requests[socks]->snscrape) (1.26.14)\n",
      "Requirement already satisfied: PySocks!=1.5.7,>=1.5.6 in c:\\users\\grace m\\anaconda3\\lib\\site-packages (from requests[socks]->snscrape) (1.7.1)\n",
      "Note: you may need to restart the kernel to use updated packages.\n"
     ]
    }
   ],
   "source": [
    "pip install snscrape"
   ]
  },
  {
   "cell_type": "code",
   "execution_count": 66,
   "id": "21ea2bb2",
   "metadata": {},
   "outputs": [],
   "source": [
    "import pandas as pd\n",
    "from tqdm.notebook import tqdm\n",
    "import snscrape.modules.twitter as sntwitter"
   ]
  },
  {
   "cell_type": "code",
   "execution_count": 70,
   "id": "a918f9ba",
   "metadata": {},
   "outputs": [
    {
     "name": "stderr",
     "output_type": "stream",
     "text": [
      "C:\\Users\\GRACE M\\AppData\\Local\\Temp\\ipykernel_380\\2260479143.py:5: DeprecatedFeatureWarning: content is deprecated, use rawContent instead\n",
      "  data =[tweet.date, tweet.id, tweet.content, tweet.user.username,]\n"
     ]
    }
   ],
   "source": [
    "scraper = sntwitter.TwitterSearchScraper(\"#Mihadarati\")\n",
    "\n",
    "tweets = []\n",
    "for i, tweet in enumerate( scraper.get_items() ):\n",
    "  data =[tweet.date, tweet.id, tweet.content, tweet.user.username,]\n",
    "  tweets.append(data)\n",
    "  if i > 30:\n",
    "    break"
   ]
  },
  {
   "cell_type": "code",
   "execution_count": 71,
   "id": "78fe3a07",
   "metadata": {},
   "outputs": [
    {
     "data": {
      "text/plain": [
       "32"
      ]
     },
     "execution_count": 71,
     "metadata": {},
     "output_type": "execute_result"
    }
   ],
   "source": [
    "len(tweets)"
   ]
  },
  {
   "cell_type": "code",
   "execution_count": 72,
   "id": "733ca070",
   "metadata": {},
   "outputs": [],
   "source": [
    "tweet_df = pd.DataFrame(tweets, columns = ['date', 'id', 'content', 'username',])"
   ]
  },
  {
   "cell_type": "code",
   "execution_count": 73,
   "id": "622c996d",
   "metadata": {},
   "outputs": [
    {
     "data": {
      "text/html": [
       "<div>\n",
       "<style scoped>\n",
       "    .dataframe tbody tr th:only-of-type {\n",
       "        vertical-align: middle;\n",
       "    }\n",
       "\n",
       "    .dataframe tbody tr th {\n",
       "        vertical-align: top;\n",
       "    }\n",
       "\n",
       "    .dataframe thead th {\n",
       "        text-align: right;\n",
       "    }\n",
       "</style>\n",
       "<table border=\"1\" class=\"dataframe\">\n",
       "  <thead>\n",
       "    <tr style=\"text-align: right;\">\n",
       "      <th></th>\n",
       "      <th>date</th>\n",
       "      <th>id</th>\n",
       "      <th>content</th>\n",
       "      <th>username</th>\n",
       "    </tr>\n",
       "  </thead>\n",
       "  <tbody>\n",
       "    <tr>\n",
       "      <th>0</th>\n",
       "      <td>2023-03-18 02:30:47+00:00</td>\n",
       "      <td>1636918037033934848</td>\n",
       "      <td>#Mihadarati</td>\n",
       "      <td>assumpta_massoi</td>\n",
       "    </tr>\n",
       "    <tr>\n",
       "      <th>1</th>\n",
       "      <td>2023-03-14 17:24:37+00:00</td>\n",
       "      <td>1635693428913713154</td>\n",
       "      <td>Mihadarati ni Hasara Kwa Mwili na Mfuko.\\n\\n#M...</td>\n",
       "      <td>MashMyk</td>\n",
       "    </tr>\n",
       "    <tr>\n",
       "      <th>2</th>\n",
       "      <td>2023-03-11 16:29:37+00:00</td>\n",
       "      <td>1634592421492211712</td>\n",
       "      <td>Mihadarati ni Hasara . Mambo ni Punguza Punguz...</td>\n",
       "      <td>MashMyk</td>\n",
       "    </tr>\n",
       "    <tr>\n",
       "      <th>3</th>\n",
       "      <td>2023-02-12 17:22:52+00:00</td>\n",
       "      <td>1624821350987665408</td>\n",
       "      <td>@EugeneLWamalwa Nyinyi watu nikama mnatumia #M...</td>\n",
       "      <td>ithagu1</td>\n",
       "    </tr>\n",
       "    <tr>\n",
       "      <th>4</th>\n",
       "      <td>2023-01-05 14:08:19+00:00</td>\n",
       "      <td>1611001652281999366</td>\n",
       "      <td>Catch Phrases for Alcohol and Drugs Prevention...</td>\n",
       "      <td>MashMyk</td>\n",
       "    </tr>\n",
       "    <tr>\n",
       "      <th>5</th>\n",
       "      <td>2022-10-08 13:41:40+00:00</td>\n",
       "      <td>1578742426193100800</td>\n",
       "      <td>Oneni Upuzi mtupu. Kichwa chako kimejaa mfupa....</td>\n",
       "      <td>Weru163834491</td>\n",
       "    </tr>\n",
       "    <tr>\n",
       "      <th>6</th>\n",
       "      <td>2022-07-06 09:40:45+00:00</td>\n",
       "      <td>1544617338720362497</td>\n",
       "      <td>Afisa wa nyanjani wa Shirika la kupambana na u...</td>\n",
       "      <td>RadioKaya</td>\n",
       "    </tr>\n",
       "    <tr>\n",
       "      <th>7</th>\n",
       "      <td>2022-07-01 08:43:32+00:00</td>\n",
       "      <td>1542790997830139904</td>\n",
       "      <td>Do you still think we need tvs to listen to an...</td>\n",
       "      <td>digitalagrovetk</td>\n",
       "    </tr>\n",
       "    <tr>\n",
       "      <th>8</th>\n",
       "      <td>2022-06-01 10:52:10+00:00</td>\n",
       "      <td>1531951736260280320</td>\n",
       "      <td>By being called  #Uhuru Gardens. It's not your...</td>\n",
       "      <td>Robaa82</td>\n",
       "    </tr>\n",
       "    <tr>\n",
       "      <th>9</th>\n",
       "      <td>2022-03-01 11:35:26+00:00</td>\n",
       "      <td>1498622938207170563</td>\n",
       "      <td>🔵🔴 JUU IKO SAWA MTAANI 🔵🔴\\n\\nHatua Kwa hatua t...</td>\n",
       "      <td>DFHRC</td>\n",
       "    </tr>\n",
       "    <tr>\n",
       "      <th>10</th>\n",
       "      <td>2022-01-24 11:59:43+00:00</td>\n",
       "      <td>1485583087866200069</td>\n",
       "      <td>Shirika la kupambana na uraibu wa dawa za kule...</td>\n",
       "      <td>RadioKaya</td>\n",
       "    </tr>\n",
       "    <tr>\n",
       "      <th>11</th>\n",
       "      <td>2022-01-09 13:04:19+00:00</td>\n",
       "      <td>1480163526312349700</td>\n",
       "      <td>@its_minnk ya stevo simple boy #mihadarati</td>\n",
       "      <td>Kapedothedon</td>\n",
       "    </tr>\n",
       "    <tr>\n",
       "      <th>12</th>\n",
       "      <td>2022-01-06 05:42:44+00:00</td>\n",
       "      <td>1478965233863569409</td>\n",
       "      <td>Wasn't Qassim Raila @RailaOdinga the Prime Min...</td>\n",
       "      <td>pkmwiandi</td>\n",
       "    </tr>\n",
       "    <tr>\n",
       "      <th>13</th>\n",
       "      <td>2021-11-13 11:04:11+00:00</td>\n",
       "      <td>1459477186973368322</td>\n",
       "      <td>Kwani topic itakuwanga tu makali?\\nAti moshi n...</td>\n",
       "      <td>otis254</td>\n",
       "    </tr>\n",
       "    <tr>\n",
       "      <th>14</th>\n",
       "      <td>2021-10-19 08:20:17+00:00</td>\n",
       "      <td>1450376243535286274</td>\n",
       "      <td>@elv3ndreams Boychild. We had a whole conversa...</td>\n",
       "      <td>JewelsDesiree</td>\n",
       "    </tr>\n",
       "    <tr>\n",
       "      <th>15</th>\n",
       "      <td>2021-07-16 13:20:33+00:00</td>\n",
       "      <td>1416024959927869443</td>\n",
       "      <td>Yo,naishi mtaa youts wamepagawa wengine wamewa...</td>\n",
       "      <td>ArtMuseum_8</td>\n",
       "    </tr>\n",
       "    <tr>\n",
       "      <th>16</th>\n",
       "      <td>2021-07-16 13:14:22+00:00</td>\n",
       "      <td>1416023404612837386</td>\n",
       "      <td>Unakonda kwanini na ushaambiwa, usipende mihad...</td>\n",
       "      <td>ArtMuseum_8</td>\n",
       "    </tr>\n",
       "    <tr>\n",
       "      <th>17</th>\n",
       "      <td>2021-06-17 08:42:51+00:00</td>\n",
       "      <td>1405445824373526529</td>\n",
       "      <td>There's no way you can ever sleep on Wakadinal...</td>\n",
       "      <td>THEbiggestkaka</td>\n",
       "    </tr>\n",
       "    <tr>\n",
       "      <th>18</th>\n",
       "      <td>2021-06-06 04:09:24+00:00</td>\n",
       "      <td>1401390744032665600</td>\n",
       "      <td>@AdanZamuh Hii njeve ni ya wale wasee....\\n#mi...</td>\n",
       "      <td>AKogalloo</td>\n",
       "    </tr>\n",
       "    <tr>\n",
       "      <th>19</th>\n",
       "      <td>2021-02-24 14:52:35+00:00</td>\n",
       "      <td>1364589042399137792</td>\n",
       "      <td>Kenya 🇰🇪 sihami😂😂😂 wakiamua utatrend utatrend ...</td>\n",
       "      <td>OmmyVdj</td>\n",
       "    </tr>\n",
       "    <tr>\n",
       "      <th>20</th>\n",
       "      <td>2020-12-30 20:14:31+00:00</td>\n",
       "      <td>1344376341345529862</td>\n",
       "      <td>@Kanjefe Inasikitisha sana zaidi ya sana!!! \\n...</td>\n",
       "      <td>LamuEye</td>\n",
       "    </tr>\n",
       "    <tr>\n",
       "      <th>21</th>\n",
       "      <td>2020-08-21 21:25:42+00:00</td>\n",
       "      <td>1296921443150823424</td>\n",
       "      <td>\"Bila kuvuta Sijala|\\n Si kuvuta Sigara|\\n Kuv...</td>\n",
       "      <td>Ole_Mboyo</td>\n",
       "    </tr>\n",
       "    <tr>\n",
       "      <th>22</th>\n",
       "      <td>2020-08-10 14:26:38+00:00</td>\n",
       "      <td>1292829714378301441</td>\n",
       "      <td>Tani  4,4 za #mihadarati zakamatwa nchinini #I...</td>\n",
       "      <td>trtswahili</td>\n",
       "    </tr>\n",
       "    <tr>\n",
       "      <th>23</th>\n",
       "      <td>2020-08-10 04:07:41+00:00</td>\n",
       "      <td>1292673951731253248</td>\n",
       "      <td>Kumbe matumizi ya #MIHADARATI hujaacha tu? Maa...</td>\n",
       "      <td>Fugitive66_</td>\n",
       "    </tr>\n",
       "    <tr>\n",
       "      <th>24</th>\n",
       "      <td>2020-07-17 19:15:37+00:00</td>\n",
       "      <td>1284205132394176512</td>\n",
       "      <td>#SewerSydaa - Glock\\n\\nSewer Sydaa - Hakuna Ki...</td>\n",
       "      <td>AdoVeliRadio</td>\n",
       "    </tr>\n",
       "    <tr>\n",
       "      <th>25</th>\n",
       "      <td>2020-05-02 12:19:17+00:00</td>\n",
       "      <td>1256558878763991040</td>\n",
       "      <td>@stivo_boy kumbe ulifanya tu remix😀😂\\n#MoBarDe...</td>\n",
       "      <td>iamlegrande</td>\n",
       "    </tr>\n",
       "    <tr>\n",
       "      <th>26</th>\n",
       "      <td>2020-04-29 08:48:47+00:00</td>\n",
       "      <td>1255418743569756160</td>\n",
       "      <td>@stivo_boy Hii kizungu yote ulitoa wapi #mihad...</td>\n",
       "      <td>96BANNERSPICE</td>\n",
       "    </tr>\n",
       "    <tr>\n",
       "      <th>27</th>\n",
       "      <td>2020-04-28 19:36:23+00:00</td>\n",
       "      <td>1255219328653373440</td>\n",
       "      <td>@stivo_boy Kwani stevo ulisoma chemistry\\nNili...</td>\n",
       "      <td>Peacebrian1</td>\n",
       "    </tr>\n",
       "    <tr>\n",
       "      <th>28</th>\n",
       "      <td>2020-04-25 16:02:13+00:00</td>\n",
       "      <td>1254078267679821830</td>\n",
       "      <td>Kwani topic itakuanga tu makali???\\n#MIHADARAT...</td>\n",
       "      <td>Wakadinali</td>\n",
       "    </tr>\n",
       "    <tr>\n",
       "      <th>29</th>\n",
       "      <td>2020-04-22 04:53:02+00:00</td>\n",
       "      <td>1252822699828600832</td>\n",
       "      <td>@stivo_boy 😂😂😂😂chang'a na bangi mingi za kibra...</td>\n",
       "      <td>KaumbaEvance</td>\n",
       "    </tr>\n",
       "    <tr>\n",
       "      <th>30</th>\n",
       "      <td>2020-04-14 23:12:04+00:00</td>\n",
       "      <td>1250200175576047616</td>\n",
       "      <td>@stivo_boy @stivo_boy pia wewe n celeb ume don...</td>\n",
       "      <td>theChaliceFrank</td>\n",
       "    </tr>\n",
       "    <tr>\n",
       "      <th>31</th>\n",
       "      <td>2020-04-09 12:36:37+00:00</td>\n",
       "      <td>1248228320434696193</td>\n",
       "      <td>A JAM FOR YEARS!!! #Mihadarati @Wakadinali @zo...</td>\n",
       "      <td>sewersydaa</td>\n",
       "    </tr>\n",
       "  </tbody>\n",
       "</table>\n",
       "</div>"
      ],
      "text/plain": [
       "                        date                   id  \\\n",
       "0  2023-03-18 02:30:47+00:00  1636918037033934848   \n",
       "1  2023-03-14 17:24:37+00:00  1635693428913713154   \n",
       "2  2023-03-11 16:29:37+00:00  1634592421492211712   \n",
       "3  2023-02-12 17:22:52+00:00  1624821350987665408   \n",
       "4  2023-01-05 14:08:19+00:00  1611001652281999366   \n",
       "5  2022-10-08 13:41:40+00:00  1578742426193100800   \n",
       "6  2022-07-06 09:40:45+00:00  1544617338720362497   \n",
       "7  2022-07-01 08:43:32+00:00  1542790997830139904   \n",
       "8  2022-06-01 10:52:10+00:00  1531951736260280320   \n",
       "9  2022-03-01 11:35:26+00:00  1498622938207170563   \n",
       "10 2022-01-24 11:59:43+00:00  1485583087866200069   \n",
       "11 2022-01-09 13:04:19+00:00  1480163526312349700   \n",
       "12 2022-01-06 05:42:44+00:00  1478965233863569409   \n",
       "13 2021-11-13 11:04:11+00:00  1459477186973368322   \n",
       "14 2021-10-19 08:20:17+00:00  1450376243535286274   \n",
       "15 2021-07-16 13:20:33+00:00  1416024959927869443   \n",
       "16 2021-07-16 13:14:22+00:00  1416023404612837386   \n",
       "17 2021-06-17 08:42:51+00:00  1405445824373526529   \n",
       "18 2021-06-06 04:09:24+00:00  1401390744032665600   \n",
       "19 2021-02-24 14:52:35+00:00  1364589042399137792   \n",
       "20 2020-12-30 20:14:31+00:00  1344376341345529862   \n",
       "21 2020-08-21 21:25:42+00:00  1296921443150823424   \n",
       "22 2020-08-10 14:26:38+00:00  1292829714378301441   \n",
       "23 2020-08-10 04:07:41+00:00  1292673951731253248   \n",
       "24 2020-07-17 19:15:37+00:00  1284205132394176512   \n",
       "25 2020-05-02 12:19:17+00:00  1256558878763991040   \n",
       "26 2020-04-29 08:48:47+00:00  1255418743569756160   \n",
       "27 2020-04-28 19:36:23+00:00  1255219328653373440   \n",
       "28 2020-04-25 16:02:13+00:00  1254078267679821830   \n",
       "29 2020-04-22 04:53:02+00:00  1252822699828600832   \n",
       "30 2020-04-14 23:12:04+00:00  1250200175576047616   \n",
       "31 2020-04-09 12:36:37+00:00  1248228320434696193   \n",
       "\n",
       "                                              content         username  \n",
       "0                                         #Mihadarati  assumpta_massoi  \n",
       "1   Mihadarati ni Hasara Kwa Mwili na Mfuko.\\n\\n#M...          MashMyk  \n",
       "2   Mihadarati ni Hasara . Mambo ni Punguza Punguz...          MashMyk  \n",
       "3   @EugeneLWamalwa Nyinyi watu nikama mnatumia #M...          ithagu1  \n",
       "4   Catch Phrases for Alcohol and Drugs Prevention...          MashMyk  \n",
       "5   Oneni Upuzi mtupu. Kichwa chako kimejaa mfupa....    Weru163834491  \n",
       "6   Afisa wa nyanjani wa Shirika la kupambana na u...        RadioKaya  \n",
       "7   Do you still think we need tvs to listen to an...  digitalagrovetk  \n",
       "8   By being called  #Uhuru Gardens. It's not your...          Robaa82  \n",
       "9   🔵🔴 JUU IKO SAWA MTAANI 🔵🔴\\n\\nHatua Kwa hatua t...            DFHRC  \n",
       "10  Shirika la kupambana na uraibu wa dawa za kule...        RadioKaya  \n",
       "11         @its_minnk ya stevo simple boy #mihadarati     Kapedothedon  \n",
       "12  Wasn't Qassim Raila @RailaOdinga the Prime Min...        pkmwiandi  \n",
       "13  Kwani topic itakuwanga tu makali?\\nAti moshi n...          otis254  \n",
       "14  @elv3ndreams Boychild. We had a whole conversa...    JewelsDesiree  \n",
       "15  Yo,naishi mtaa youts wamepagawa wengine wamewa...      ArtMuseum_8  \n",
       "16  Unakonda kwanini na ushaambiwa, usipende mihad...      ArtMuseum_8  \n",
       "17  There's no way you can ever sleep on Wakadinal...   THEbiggestkaka  \n",
       "18  @AdanZamuh Hii njeve ni ya wale wasee....\\n#mi...        AKogalloo  \n",
       "19  Kenya 🇰🇪 sihami😂😂😂 wakiamua utatrend utatrend ...          OmmyVdj  \n",
       "20  @Kanjefe Inasikitisha sana zaidi ya sana!!! \\n...          LamuEye  \n",
       "21  \"Bila kuvuta Sijala|\\n Si kuvuta Sigara|\\n Kuv...        Ole_Mboyo  \n",
       "22  Tani  4,4 za #mihadarati zakamatwa nchinini #I...       trtswahili  \n",
       "23  Kumbe matumizi ya #MIHADARATI hujaacha tu? Maa...      Fugitive66_  \n",
       "24  #SewerSydaa - Glock\\n\\nSewer Sydaa - Hakuna Ki...     AdoVeliRadio  \n",
       "25  @stivo_boy kumbe ulifanya tu remix😀😂\\n#MoBarDe...      iamlegrande  \n",
       "26  @stivo_boy Hii kizungu yote ulitoa wapi #mihad...    96BANNERSPICE  \n",
       "27  @stivo_boy Kwani stevo ulisoma chemistry\\nNili...      Peacebrian1  \n",
       "28  Kwani topic itakuanga tu makali???\\n#MIHADARAT...       Wakadinali  \n",
       "29  @stivo_boy 😂😂😂😂chang'a na bangi mingi za kibra...     KaumbaEvance  \n",
       "30  @stivo_boy @stivo_boy pia wewe n celeb ume don...  theChaliceFrank  \n",
       "31  A JAM FOR YEARS!!! #Mihadarati @Wakadinali @zo...       sewersydaa  "
      ]
     },
     "execution_count": 73,
     "metadata": {},
     "output_type": "execute_result"
    }
   ],
   "source": [
    "tweet_df.to_csv(\"Mihadarati_tweet.csv\", index = False)\n",
    "tweet_df"
   ]
  },
  {
   "cell_type": "code",
   "execution_count": 100,
   "id": "17ba52af",
   "metadata": {},
   "outputs": [
    {
     "name": "stdout",
     "output_type": "stream",
     "text": [
      "🔵🔴 JUU IKO SAWA MTAANI 🔵🔴\n",
      "\n",
      "Hatua Kwa hatua tuepuke minyororo ya mihadarati katika mtaa wetu wa majengo. Mazungumzo na mwelekeo dhahiri kutoka Kwa  viongozi tofauti. Tunashukuru #JuuIkoSawaMtaani #Mihadarati #KumekuchaQuest https://t.co/q8usg6FYWL\n"
     ]
    }
   ],
   "source": [
    "example = tweet_df['content'][9]\n",
    "print(example)"
   ]
  },
  {
   "cell_type": "code",
   "execution_count": 58,
   "id": "00deecb5",
   "metadata": {},
   "outputs": [],
   "source": [
    "#To show human results vs analyzer\n",
    "from nltk.sentiment import SentimentIntensityAnalyzer\n",
    "from tqdm.notebook import tqdm\n",
    "\n",
    "sia = SentimentIntensityAnalyzer()"
   ]
  },
  {
   "cell_type": "code",
   "execution_count": 59,
   "id": "f79b4622",
   "metadata": {},
   "outputs": [
    {
     "data": {
      "text/plain": [
       "{'neg': 0.0, 'neu': 1.0, 'pos': 0.0, 'compound': 0.0}"
      ]
     },
     "execution_count": 59,
     "metadata": {},
     "output_type": "execute_result"
    }
   ],
   "source": [
    "sia.polarity_scores(example)"
   ]
  },
  {
   "cell_type": "code",
   "execution_count": 60,
   "id": "186fb2ef",
   "metadata": {},
   "outputs": [
    {
     "data": {
      "application/vnd.jupyter.widget-view+json": {
       "model_id": "a7b0b7947685419eb72f57da128d936e",
       "version_major": 2,
       "version_minor": 0
      },
      "text/plain": [
       "  0%|          | 0/52 [00:00<?, ?it/s]"
      ]
     },
     "metadata": {},
     "output_type": "display_data"
    }
   ],
   "source": []
  },
  {
   "cell_type": "code",
   "execution_count": 96,
   "id": "914613c8",
   "metadata": {},
   "outputs": [
    {
     "data": {
      "text/html": [
       "<div>\n",
       "<style scoped>\n",
       "    .dataframe tbody tr th:only-of-type {\n",
       "        vertical-align: middle;\n",
       "    }\n",
       "\n",
       "    .dataframe tbody tr th {\n",
       "        vertical-align: top;\n",
       "    }\n",
       "\n",
       "    .dataframe thead th {\n",
       "        text-align: right;\n",
       "    }\n",
       "</style>\n",
       "<table border=\"1\" class=\"dataframe\">\n",
       "  <thead>\n",
       "    <tr style=\"text-align: right;\">\n",
       "      <th></th>\n",
       "      <th>date</th>\n",
       "      <th>id</th>\n",
       "      <th>content</th>\n",
       "      <th>username</th>\n",
       "      <th>neg</th>\n",
       "      <th>neu</th>\n",
       "      <th>pos</th>\n",
       "      <th>compound</th>\n",
       "    </tr>\n",
       "  </thead>\n",
       "  <tbody>\n",
       "    <tr>\n",
       "      <th>0</th>\n",
       "      <td>2023-03-18 02:30:47+00:00</td>\n",
       "      <td>1.636920e+18</td>\n",
       "      <td>#Mihadarati</td>\n",
       "      <td>assumpta_massoi</td>\n",
       "      <td>1.0</td>\n",
       "      <td>2.0</td>\n",
       "      <td>0.0</td>\n",
       "      <td>NaN</td>\n",
       "    </tr>\n",
       "    <tr>\n",
       "      <th>1</th>\n",
       "      <td>2023-03-14 17:24:37+00:00</td>\n",
       "      <td>1.635690e+18</td>\n",
       "      <td>Mihadarati ni Hasara Kwa Mwili na Mfuko.\\n\\n#M...</td>\n",
       "      <td>MashMyk</td>\n",
       "      <td>0.0</td>\n",
       "      <td>1.0</td>\n",
       "      <td>2.0</td>\n",
       "      <td>NaN</td>\n",
       "    </tr>\n",
       "    <tr>\n",
       "      <th>2</th>\n",
       "      <td>2023-03-11 16:29:37+00:00</td>\n",
       "      <td>1.634590e+18</td>\n",
       "      <td>Mihadarati ni Hasara . Mambo ni Punguza Punguz...</td>\n",
       "      <td>MashMyk</td>\n",
       "      <td>0.0</td>\n",
       "      <td>1.0</td>\n",
       "      <td>2.0</td>\n",
       "      <td>NaN</td>\n",
       "    </tr>\n",
       "    <tr>\n",
       "      <th>3</th>\n",
       "      <td>2023-02-12 17:22:52+00:00</td>\n",
       "      <td>1.624820e+18</td>\n",
       "      <td>@EugeneLWamalwa Nyinyi watu nikama mnatumia #M...</td>\n",
       "      <td>ithagu1</td>\n",
       "      <td>2.0</td>\n",
       "      <td>1.0</td>\n",
       "      <td>0.0</td>\n",
       "      <td>NaN</td>\n",
       "    </tr>\n",
       "    <tr>\n",
       "      <th>4</th>\n",
       "      <td>2023-01-05 14:08:19+00:00</td>\n",
       "      <td>1.611000e+18</td>\n",
       "      <td>Catch Phrases for Alcohol and Drugs Prevention...</td>\n",
       "      <td>MashMyk</td>\n",
       "      <td>0.0</td>\n",
       "      <td>1.0</td>\n",
       "      <td>2.0</td>\n",
       "      <td>NaN</td>\n",
       "    </tr>\n",
       "    <tr>\n",
       "      <th>5</th>\n",
       "      <td>2022-10-08 13:41:40+00:00</td>\n",
       "      <td>1.578740e+18</td>\n",
       "      <td>Oneni Upuzi mtupu. Kichwa chako kimejaa mfupa....</td>\n",
       "      <td>Weru163834491</td>\n",
       "      <td>3.0</td>\n",
       "      <td>0.0</td>\n",
       "      <td>0.0</td>\n",
       "      <td>NaN</td>\n",
       "    </tr>\n",
       "    <tr>\n",
       "      <th>6</th>\n",
       "      <td>2022-07-06 09:40:45+00:00</td>\n",
       "      <td>1.544620e+18</td>\n",
       "      <td>Afisa wa nyanjani wa Shirika la kupambana na u...</td>\n",
       "      <td>RadioKaya</td>\n",
       "      <td>1.0</td>\n",
       "      <td>1.0</td>\n",
       "      <td>1.0</td>\n",
       "      <td>NaN</td>\n",
       "    </tr>\n",
       "    <tr>\n",
       "      <th>7</th>\n",
       "      <td>2022-07-01 08:43:32+00:00</td>\n",
       "      <td>1.542790e+18</td>\n",
       "      <td>Do you still think we need tvs to listen to an...</td>\n",
       "      <td>digitalagrovetk</td>\n",
       "      <td>0.0</td>\n",
       "      <td>1.0</td>\n",
       "      <td>2.0</td>\n",
       "      <td>NaN</td>\n",
       "    </tr>\n",
       "    <tr>\n",
       "      <th>8</th>\n",
       "      <td>2022-06-01 10:52:10+00:00</td>\n",
       "      <td>1.531950e+18</td>\n",
       "      <td>By being called  #Uhuru Gardens. It's not your...</td>\n",
       "      <td>Robaa82</td>\n",
       "      <td>2.0</td>\n",
       "      <td>1.0</td>\n",
       "      <td>0.0</td>\n",
       "      <td>NaN</td>\n",
       "    </tr>\n",
       "    <tr>\n",
       "      <th>9</th>\n",
       "      <td>2022-03-01 11:35:26+00:00</td>\n",
       "      <td>1.498620e+18</td>\n",
       "      <td>🔵🔴 JUU IKO SAWA MTAANI 🔵🔴\\n\\nHatua Kwa hatua t...</td>\n",
       "      <td>DFHRC</td>\n",
       "      <td>0.0</td>\n",
       "      <td>0.0</td>\n",
       "      <td>3.0</td>\n",
       "      <td>NaN</td>\n",
       "    </tr>\n",
       "  </tbody>\n",
       "</table>\n",
       "</div>"
      ],
      "text/plain": [
       "                        date            id  \\\n",
       "0  2023-03-18 02:30:47+00:00  1.636920e+18   \n",
       "1  2023-03-14 17:24:37+00:00  1.635690e+18   \n",
       "2  2023-03-11 16:29:37+00:00  1.634590e+18   \n",
       "3  2023-02-12 17:22:52+00:00  1.624820e+18   \n",
       "4  2023-01-05 14:08:19+00:00  1.611000e+18   \n",
       "5  2022-10-08 13:41:40+00:00  1.578740e+18   \n",
       "6  2022-07-06 09:40:45+00:00  1.544620e+18   \n",
       "7  2022-07-01 08:43:32+00:00  1.542790e+18   \n",
       "8  2022-06-01 10:52:10+00:00  1.531950e+18   \n",
       "9  2022-03-01 11:35:26+00:00  1.498620e+18   \n",
       "\n",
       "                                             content         username  neg  \\\n",
       "0                                        #Mihadarati  assumpta_massoi  1.0   \n",
       "1  Mihadarati ni Hasara Kwa Mwili na Mfuko.\\n\\n#M...          MashMyk  0.0   \n",
       "2  Mihadarati ni Hasara . Mambo ni Punguza Punguz...          MashMyk  0.0   \n",
       "3  @EugeneLWamalwa Nyinyi watu nikama mnatumia #M...          ithagu1  2.0   \n",
       "4  Catch Phrases for Alcohol and Drugs Prevention...          MashMyk  0.0   \n",
       "5  Oneni Upuzi mtupu. Kichwa chako kimejaa mfupa....    Weru163834491  3.0   \n",
       "6  Afisa wa nyanjani wa Shirika la kupambana na u...        RadioKaya  1.0   \n",
       "7  Do you still think we need tvs to listen to an...  digitalagrovetk  0.0   \n",
       "8  By being called  #Uhuru Gardens. It's not your...          Robaa82  2.0   \n",
       "9  🔵🔴 JUU IKO SAWA MTAANI 🔵🔴\\n\\nHatua Kwa hatua t...            DFHRC  0.0   \n",
       "\n",
       "   neu  pos  compound  \n",
       "0  2.0  0.0       NaN  \n",
       "1  1.0  2.0       NaN  \n",
       "2  1.0  2.0       NaN  \n",
       "3  1.0  0.0       NaN  \n",
       "4  1.0  2.0       NaN  \n",
       "5  0.0  0.0       NaN  \n",
       "6  1.0  1.0       NaN  \n",
       "7  1.0  2.0       NaN  \n",
       "8  1.0  0.0       NaN  \n",
       "9  0.0  3.0       NaN  "
      ]
     },
     "execution_count": 96,
     "metadata": {},
     "output_type": "execute_result"
    }
   ],
   "source": [
    "#1.neutral, 2.negative, 3.positive\n",
    "tweet_df = pd.read_csv('Mihadarati_tweet.csv')\n",
    "tweet_df = tweet_df.head(10)\n",
    "tweet_df"
   ]
  },
  {
   "cell_type": "code",
   "execution_count": 102,
   "id": "26b66a79",
   "metadata": {},
   "outputs": [],
   "source": [
    "import re \n",
    "\n",
    "import nltk \n",
    "\n",
    "from nltk.tokenize import word_tokenize \n",
    "\n",
    "from nltk.corpus import stopwords \n",
    "\n",
    "from nltk.stem import PorterStemmer, WordNetLemmatizer \n",
    "\n",
    "from wordcloud import wordcloud \n"
   ]
  },
  {
   "cell_type": "code",
   "execution_count": 109,
   "id": "baff52fb",
   "metadata": {},
   "outputs": [
    {
     "name": "stderr",
     "output_type": "stream",
     "text": [
      "C:\\Users\\GRACE M\\AppData\\Local\\Temp\\ipykernel_380\\1271237045.py:11: FutureWarning: The default value of regex will change from True to False in a future version.\n",
      "  tweet_df['content'] = tweet_df['content'].str.replace(url_pattern, '')\n"
     ]
    }
   ],
   "source": [
    "import pandas as pd\n",
    "import re\n",
    "\n",
    "# Load CSV file \n",
    "df = pd.read_csv('Mihadarati_tweet.csv')\n",
    "\n",
    "# Create pattern to match URLs\n",
    "url_pattern = r'https?://\\S+|www\\.\\S+'\n",
    "\n",
    "# Replace URLs with empty string\n",
    "tweet_df['content'] = tweet_df['content'].str.replace(url_pattern, '')\n"
   ]
  },
  {
   "cell_type": "code",
   "execution_count": 110,
   "id": "a41ffb8e",
   "metadata": {},
   "outputs": [
    {
     "name": "stdout",
     "output_type": "stream",
     "text": [
      "🔵🔴 JUU IKO SAWA MTAANI 🔵🔴\n",
      "\n",
      "Hatua Kwa hatua tuepuke minyororo ya mihadarati katika mtaa wetu wa majengo. Mazungumzo na mwelekeo dhahiri kutoka Kwa  viongozi tofauti. Tunashukuru #JuuIkoSawaMtaani #Mihadarati #KumekuchaQuest \n"
     ]
    }
   ],
   "source": [
    "example = tweet_df['content'][9]\n",
    "print(example)"
   ]
  },
  {
   "cell_type": "code",
   "execution_count": 111,
   "id": "752e58e9",
   "metadata": {},
   "outputs": [],
   "source": [
    "#Lower case conversion\n",
    "tweet_df['content'] = tweet_df['content'].str.lower()"
   ]
  },
  {
   "cell_type": "code",
   "execution_count": 112,
   "id": "26b35d38",
   "metadata": {},
   "outputs": [
    {
     "name": "stdout",
     "output_type": "stream",
     "text": [
      "🔵🔴 juu iko sawa mtaani 🔵🔴\n",
      "\n",
      "hatua kwa hatua tuepuke minyororo ya mihadarati katika mtaa wetu wa majengo. mazungumzo na mwelekeo dhahiri kutoka kwa  viongozi tofauti. tunashukuru #juuikosawamtaani #mihadarati #kumekuchaquest \n"
     ]
    }
   ],
   "source": [
    "example = tweet_df['content'][9]\n",
    "print(example)"
   ]
  },
  {
   "cell_type": "code",
   "execution_count": 117,
   "id": "93837efa",
   "metadata": {},
   "outputs": [
    {
     "name": "stderr",
     "output_type": "stream",
     "text": [
      "[nltk_data] Downloading package stopwords to C:\\Users\\GRACE\n",
      "[nltk_data]     M\\AppData\\Roaming\\nltk_data...\n",
      "[nltk_data]   Package stopwords is already up-to-date!\n"
     ]
    }
   ],
   "source": [
    "#removal of stopwords\n",
    "nltk.download('stopwords')\n",
    "from nltk.corpus import stopwords\n",
    "\",\".join(stopwords.words('english'))\n",
    "stop_words = set (stopwords.words('english') + (['ya', 'wa', 'na', 'kwa', '']))"
   ]
  },
  {
   "cell_type": "code",
   "execution_count": 118,
   "id": "1600ebe4",
   "metadata": {},
   "outputs": [],
   "source": [
    "def remove_stop(x):\n",
    "    return \" \".join([word for word in str(x).split() if word not in stop_words])\n",
    "tweet_df['content'] = tweet_df['content'].apply(lambda x: remove_stop(x))"
   ]
  },
  {
   "cell_type": "code",
   "execution_count": 119,
   "id": "37b25175",
   "metadata": {},
   "outputs": [
    {
     "name": "stdout",
     "output_type": "stream",
     "text": [
      "🔵🔴 juu iko sawa mtaani 🔵🔴 hatua hatua tuepuke minyororo mihadarati katika mtaa wetu majengo. mazungumzo mwelekeo dhahiri kutoka viongozi tofauti. tunashukuru #juuikosawamtaani #mihadarati #kumekuchaquest\n"
     ]
    }
   ],
   "source": [
    "example = tweet_df['content'][9]\n",
    "print(example)"
   ]
  },
  {
   "cell_type": "code",
   "execution_count": 124,
   "id": "e40822db",
   "metadata": {},
   "outputs": [],
   "source": [
    "#Removal of punctuations\n",
    "import string\n",
    "punct = string.punctuation"
   ]
  },
  {
   "cell_type": "code",
   "execution_count": 125,
   "id": "816ac9f0",
   "metadata": {},
   "outputs": [],
   "source": [
    "def remove_punct(x):\n",
    "    return x.translate(str.maketrans(\"\",\"\",punct))\n",
    "tweet_df['content'] = tweet_df['content'].apply(lambda x: remove_punct(x))"
   ]
  },
  {
   "cell_type": "code",
   "execution_count": 126,
   "id": "dcdd974b",
   "metadata": {},
   "outputs": [
    {
     "name": "stdout",
     "output_type": "stream",
     "text": [
      "called uhuru gardens garden boss treat everyone respect brought boy pombe mihadarati ni mbaya\n"
     ]
    }
   ],
   "source": [
    "example = tweet_df['content'][8]\n",
    "print(example)"
   ]
  },
  {
   "cell_type": "code",
   "execution_count": 137,
   "id": "a6487936",
   "metadata": {},
   "outputs": [
    {
     "ename": "SyntaxError",
     "evalue": "(unicode error) 'unicodeescape' codec can't decode bytes in position 0-9: illegal Unicode character (1125959836.py, line 11)",
     "output_type": "error",
     "traceback": [
      "\u001b[1;36m  Cell \u001b[1;32mIn[137], line 11\u001b[1;36m\u001b[0m\n\u001b[1;33m    \"]+\" flags = re.UNICODE,\u001b[0m\n\u001b[1;37m         ^\u001b[0m\n\u001b[1;31mSyntaxError\u001b[0m\u001b[1;31m:\u001b[0m (unicode error) 'unicodeescape' codec can't decode bytes in position 0-9: illegal Unicode character\n"
     ]
    }
   ],
   "source": [
    "#-- coding: utf-8 --\n",
    "def remove_emoji(string):\n",
    "    emoji_pattern = re.compile(\n",
    "        \"[\"\n",
    "        u\"\\U0001F600-\\U0001F64F\" #emoticons\n",
    "        u\"\\U0001F300-\\U0001F5FF\" #symbols \n",
    "        u\"\\U0001F680-\\U0001F6FF\" #transport and map symbols\n",
    "        u\"\\U0091F1E0-\\U0001F1FF\" #flags\n",
    "        u\"\\U00002702-\\U00002780\"\n",
    "        u\"\\U000024C2-\\U0001F251\"\n",
    "        \"]+\" flags = re.UNICODE,\n",
    "    )\n",
    "    return emoji_pattern.sub(r\"\", string)"
   ]
  },
  {
   "cell_type": "code",
   "execution_count": null,
   "id": "87e50878",
   "metadata": {},
   "outputs": [],
   "source": []
  },
  {
   "cell_type": "code",
   "execution_count": null,
   "id": "92af633a",
   "metadata": {},
   "outputs": [],
   "source": []
  }
 ],
 "metadata": {
  "kernelspec": {
   "display_name": "Python 3 (ipykernel)",
   "language": "python",
   "name": "python3"
  },
  "language_info": {
   "codemirror_mode": {
    "name": "ipython",
    "version": 3
   },
   "file_extension": ".py",
   "mimetype": "text/x-python",
   "name": "python",
   "nbconvert_exporter": "python",
   "pygments_lexer": "ipython3",
   "version": "3.9.16"
  }
 },
 "nbformat": 4,
 "nbformat_minor": 5
}
